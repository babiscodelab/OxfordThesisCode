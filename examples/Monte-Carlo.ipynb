{
 "cells": [
  {
   "cell_type": "markdown",
   "id": "painful-ceremony",
   "metadata": {},
   "source": [
    "## Monte Carlo swaption pricer"
   ]
  },
  {
   "cell_type": "markdown",
   "id": "offshore-things",
   "metadata": {},
   "source": [
    "Pricing swaptions using Monte-Carlo\n",
    "\n",
    "-Able to select between random number generator/Sobol\n",
    "\n",
    "-Results also with annuity factor as control variate instrument"
   ]
  },
  {
   "cell_type": "code",
   "execution_count": 1,
   "id": "increased-reggae",
   "metadata": {},
   "outputs": [],
   "source": [
    "import os\n",
    "import sys"
   ]
  },
  {
   "cell_type": "code",
   "execution_count": 2,
   "id": "measured-shape",
   "metadata": {},
   "outputs": [],
   "source": [
    "current_dir = os.getcwd()\n",
    "qg_dir = os.path.join(current_dir, \"..\")\n",
    "\n",
    "sys.path.append(qg_dir)"
   ]
  },
  {
   "cell_type": "code",
   "execution_count": 3,
   "id": "exempt-morrison",
   "metadata": {},
   "outputs": [],
   "source": [
    "from quassigaussian.montecarlo.simulations import ProcessSimulatorTerminalMeasure\n",
    "from quassigaussian.montecarlo.monte_carlo_pricer import monte_carlo_pricer_terminal_measure\n",
    "from quassigaussian.parameters.volatility.local_volatility import LinearLocalVolatility\n",
    "from quassigaussian.products.instruments import Swap, Swaption\n",
    "from quassigaussian.montecarlo.control_variate import apply_control_variate_annuity\n",
    "from quassigaussian.products.pricer import SwapPricer, SwaptionPricer, find_implied_black_vola\n",
    "import pandas as pd\n",
    "import os\n",
    "import numpy as np\n",
    "from qgtests.utis import get_mock_yield_curve_const\n",
    "from report.directories import output_data_raw, date_timestamp\n",
    "from report.utils import get_nonexistant_path\n"
   ]
  },
  {
   "cell_type": "code",
   "execution_count": 4,
   "id": "exterior-trouble",
   "metadata": {},
   "outputs": [],
   "source": [
    "number_paths = 2**14\n",
    "number_time_steps = 2**10\n",
    "\n",
    "random_number_generator_type = \"sobol\"\n",
    "random_number_generator_type = \"normal\"\n"
   ]
  },
  {
   "cell_type": "code",
   "execution_count": 5,
   "id": "western-services",
   "metadata": {},
   "outputs": [],
   "source": [
    "curve_rate = 0.06\n",
    "kappa = 0.03\n",
    "swaption_expiry=5\n",
    "swap_maturity = 10\n",
    "\n",
    "initial_curve = get_mock_yield_curve_const(rate=curve_rate)\n",
    "\n",
    "\n",
    "loca_vola = LinearLocalVolatility.from_const(swap_maturity, 0.4, 0.01, 0.1)\n",
    "\n",
    "swap_pricer = SwapPricer(initial_curve, kappa)\n",
    "swap = Swap(swaption_expiry, swap_maturity, 0.5)\n",
    "swaption_pricer = SwaptionPricer(swap_pricer)\n"
   ]
  },
  {
   "cell_type": "markdown",
   "id": "occasional-david",
   "metadata": {},
   "source": []
  },
  {
   "cell_type": "code",
   "execution_count": null,
   "id": "humanitarian-model",
   "metadata": {},
   "outputs": [],
   "source": [
    "# Simulating XY processes\n",
    "\n",
    "bond_measure = swap.bond_T0\n",
    "\n",
    "process_simulator = ProcessSimulatorTerminalMeasure(number_paths, number_time_steps,\n",
    "                                             swaption_expiry / number_time_steps,\n",
    "                                             random_number_generator_type, bond_measure,\n",
    "                                                    swap_pricer.bond_pricer, nr_processes=6,\n",
    "                                                    n_scrambles=64)\n",
    "\n",
    "# able to do multiprocessing in Python\n",
    "result_obj = process_simulator.simulate_xy(kappa, loca_vola, parallel_simulation=True)\n"
   ]
  },
  {
   "cell_type": "code",
   "execution_count": null,
   "id": "defensive-lawrence",
   "metadata": {},
   "outputs": [],
   "source": [
    "# Defining coupon grid for swaptions\n",
    "coupon_grid = [0, +0.0025, -0.0025, +0.005, -0.005, +0.01, -0.01, 0.015, -0.015, 0.02, -0.02, 0.025, -0.025]\n",
    "\n",
    "atm_swap_price = swap_pricer.price(swap, 0, 0, 0)\n",
    "strike_grid = [atm_swap_price+coupon for coupon in coupon_grid]\n"
   ]
  },
  {
   "cell_type": "code",
   "execution_count": null,
   "id": "sudden-responsibility",
   "metadata": {},
   "outputs": [],
   "source": []
  },
  {
   "cell_type": "code",
   "execution_count": null,
   "id": "norwegian-society",
   "metadata": {},
   "outputs": [],
   "source": [
    "## Analyzing resuts\n",
    "\n",
    "def calculate_implied_vola():    \n",
    "    output_all_df_ls = []\n",
    "    for strike in strike_grid:\n",
    "        swaption = Swaption(swaption_expiry, strike, swap)\n",
    "\n",
    "        swaption_value_paths = monte_carlo_pricer_terminal_measure(result_obj, swaption, swaption_pricer)\n",
    "        last_mc_time = result_obj.time_grid[-1]\n",
    "        \n",
    "        # Use Annuity as control variate instrument\n",
    "        swaption_value_paths_cv2 = apply_control_variate_annuity(last_mc_time, result_obj.x[:, -1],\n",
    "                                                        result_obj.y[:, -1], swaption_value_paths,\n",
    "                                                        swap.annuity, swap_pricer.annuity_pricer,\n",
    "                                                         swap_pricer.annuity_pricer.bond_pricer.initial_curve)\n",
    "\n",
    "        swaption_value_mean = swaption_value_paths.mean()\n",
    "        std, swaption_value_error = result_obj.calculate_std_error(swaption_value_paths, result_obj.n_scrambles)\n",
    "\n",
    "        # swaption_value_mean_cv = swaption_value_paths_cv.mean()\n",
    "        # std, swaption_value_error_cv = result_obj.calculate_std_error(swaption_value_paths_cv, result_obj.n_scrambles)\n",
    "\n",
    "        swaption_value_mean_cv = swaption_value_paths_cv2.mean()\n",
    "        std, swaption_value_error_cv = result_obj.calculate_std_error(swaption_value_paths_cv2,\n",
    "                                                                      result_obj.n_scrambles)\n",
    "\n",
    "        bond_pricer = swap_pricer.bond_pricer\n",
    "        output_data = {\"number_paths\": number_paths, \"number_time_steps\": number_time_steps,\n",
    "                       \"random_number_generator_type\": random_number_generator_type, \"expiry\": swaption_expiry,\n",
    "                       \"maturity\": swap_maturity, \"strike\": strike, \"atm strike\": atm_swap_price,\n",
    "                       \"moneyness\": strike-atm_swap_price,\n",
    "                       \"curve_rate\": curve_rate, \"kappa\": kappa, \"swaption value\": swaption_value_mean,\n",
    "                       \"swaption value error\": swaption_value_error,\n",
    "                       \"swaption value cv\": swaption_value_mean_cv,\n",
    "                       \"swaption value error cv\": swaption_value_error_cv,\n",
    "\n",
    "                       \"implied_vola\": find_implied_black_vola(swaption_value_mean, swaption,\n",
    "                                                               swap_pricer, bond_pricer),\n",
    "                       \"implied_vola_max\": find_implied_black_vola(swaption_value_mean+swaption_value_error,\n",
    "                                                                   swaption, swap_pricer, bond_pricer),\n",
    "                       \"implied_vola_min\": find_implied_black_vola(swaption_value_mean-swaption_value_error,\n",
    "                                                                   swaption, swap_pricer, bond_pricer),\n",
    "                       \"implied_vola_cv\": find_implied_black_vola(swaption_value_mean_cv, swaption,\n",
    "                                                               swap_pricer, bond_pricer),\n",
    "                       \"implied_vola_cv_max\": find_implied_black_vola(swaption_value_mean_cv + swaption_value_error_cv, swaption,\n",
    "                                                               swap_pricer, bond_pricer),\n",
    "                       \"implied_vola_cv_min\": find_implied_black_vola(swaption_value_mean_cv - swaption_value_error_cv, swaption,\n",
    "                                                               swap_pricer, bond_pricer)}\n",
    "\n",
    "        output_df_new = pd.DataFrame(output_data, index=[0])\n",
    "        output_all_df_ls.append(output_df_new)\n",
    "\n",
    "    return output_all_df_ls\n"
   ]
  },
  {
   "cell_type": "code",
   "execution_count": null,
   "id": "particular-chuck",
   "metadata": {},
   "outputs": [],
   "source": [
    "output_all_df_ls = calculate_implied_vola()\n",
    "output_all_df = pd.concat(output_all_df_ls)\n",
    "output_all_df.sort_values(\"moneyness\")"
   ]
  },
  {
   "cell_type": "code",
   "execution_count": null,
   "id": "ancient-hypothesis",
   "metadata": {},
   "outputs": [],
   "source": []
  }
 ],
 "metadata": {
  "kernelspec": {
   "display_name": "Python 3",
   "language": "python",
   "name": "python3"
  },
  "language_info": {
   "codemirror_mode": {
    "name": "ipython",
    "version": 3
   },
   "file_extension": ".py",
   "mimetype": "text/x-python",
   "name": "python",
   "nbconvert_exporter": "python",
   "pygments_lexer": "ipython3",
   "version": "3.7.10"
  }
 },
 "nbformat": 4,
 "nbformat_minor": 5
}
