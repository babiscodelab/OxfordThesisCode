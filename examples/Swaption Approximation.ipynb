{
 "cells": [
  {
   "cell_type": "markdown",
   "id": "combined-philosophy",
   "metadata": {},
   "source": [
    "## Swaption Approximation"
   ]
  },
  {
   "cell_type": "markdown",
   "id": "thorough-kernel",
   "metadata": {},
   "source": [
    "Swaption implied Black volatility approximation comparison based on Piterbarg (Vol 2, chpt 13) and Chibane- 2012"
   ]
  },
  {
   "cell_type": "code",
   "execution_count": 1,
   "id": "charged-screen",
   "metadata": {},
   "outputs": [],
   "source": [
    "import os\n",
    "import sys"
   ]
  },
  {
   "cell_type": "code",
   "execution_count": 2,
   "id": "shared-attachment",
   "metadata": {},
   "outputs": [],
   "source": [
    "current_dir = os.getcwd()\n",
    "qg_dir = os.path.join(current_dir, \"..\")\n",
    "\n",
    "sys.path.append(qg_dir)"
   ]
  },
  {
   "cell_type": "code",
   "execution_count": 3,
   "id": "opposite-nature",
   "metadata": {},
   "outputs": [],
   "source": [
    "import sys\n",
    "import os\n",
    "import sys\n",
    "import os\n",
    "import numpy as np\n",
    "from scipy.interpolate import interp1d\n",
    "import numpy as np\n",
    "import matplotlib.pyplot as plt\n",
    "import matplotlib\n",
    "import pandas as pd\n",
    "matplotlib.rcParams['text.usetex'] = True\n",
    "from quassigaussian.finitedifference.mesher.linear_mesher import extract_x0_result"
   ]
  },
  {
   "cell_type": "code",
   "execution_count": 4,
   "id": "complete-verification",
   "metadata": {},
   "outputs": [],
   "source": [
    "from quassigaussian.parameters.volatility.local_volatility import LinearLocalVolatility\n",
    "from quassigaussian.products.instruments import Swap, Swaption\n",
    "from quassigaussian.curves.libor import LiborCurve\n",
    "import pandas as pd\n",
    "import os\n",
    "from report.directories import output_data_raw, date_timestamp\n",
    "from quassigaussian.products.pricer import  SwapPricer\n",
    "from report.utils import get_nonexistant_path\n",
    "from quassigaussian.fastswaptionsolver.discrete_averaging import DiscreteParameterAveraging\n",
    "from quassigaussian.fastswaptionsolver.numerical_integration import PitergargDiscreteXY, RungeKuttaApproxXY\n",
    "from quassigaussian.fastswaptionsolver.parameter_averaging import lognormalimpliedvola\n"
   ]
  },
  {
   "cell_type": "code",
   "execution_count": 5,
   "id": "korean-quest",
   "metadata": {},
   "outputs": [],
   "source": [
    "#20Y1Y swaption\n",
    "swaption_expiry=20\n",
    "swap_maturity = 21\n",
    "\n",
    "swap_freq = 0.5\n",
    "curve_rate = 0.06\n",
    "\n",
    "kappa = 0.03\n",
    "theta = 1/2\n",
    "initial_curve = LiborCurve.from_constant_rate(curve_rate)\n",
    "\n",
    "\n",
    "\n",
    "\n",
    "t_max = swap_maturity\n",
    "t_min = 0"
   ]
  },
  {
   "cell_type": "markdown",
   "id": "nonprofit-browse",
   "metadata": {},
   "source": [
    "#### Comparison for various volatility levels"
   ]
  },
  {
   "cell_type": "code",
   "execution_count": 6,
   "id": "pacific-japanese",
   "metadata": {},
   "outputs": [],
   "source": [
    "########## Compare results for different volatility levels ###############\n",
    "#loca_vola = LinearLocalVolatility.from_const(swap_maturity, 0.7, 0.06, 0.2)\n",
    "loca_vola = LinearLocalVolatility.from_const(swap_maturity, 0.4, 0.06, 0.1)"
   ]
  },
  {
   "cell_type": "code",
   "execution_count": 7,
   "id": "bulgarian-management",
   "metadata": {},
   "outputs": [],
   "source": [
    "swap_pricer = SwapPricer(initial_curve, kappa)\n"
   ]
  },
  {
   "cell_type": "code",
   "execution_count": 8,
   "id": "systematic-parent",
   "metadata": {},
   "outputs": [],
   "source": [
    "swap = Swap(swaption_expiry, swap_maturity, swap_freq)\n",
    "coupon_grid = [0, +0.005, -0.005, +0.01, -0.01, 0.015, -0.015]\n",
    "\n",
    "atm_swap_price = swap_pricer.price(swap, 0, 0, 0)\n",
    "strike_grid = [atm_swap_price + coupon for coupon in coupon_grid]\n",
    "\n"
   ]
  },
  {
   "cell_type": "code",
   "execution_count": 9,
   "id": "amino-luxembourg",
   "metadata": {},
   "outputs": [],
   "source": [
    "# integration grid size for parameter averaging intervals\n",
    "integration_grid_size = 2**12 + 1\n"
   ]
  },
  {
   "cell_type": "code",
   "execution_count": 10,
   "id": "informal-architect",
   "metadata": {},
   "outputs": [],
   "source": [
    "def calculate_implied_vola(XYApproximator):\n",
    "    \n",
    "    xy_calculator = XYApproximator(integration_grid_size, swap_pricer, loca_vola, swap)\n",
    "    integration_approx = DiscreteParameterAveraging(integration_grid_size, swap_pricer, loca_vola, swap, xy_calculator)\n",
    "    lambda_avg, beta_avg = integration_approx.calculate_average_param()\n",
    "    all_output_data_ls = []\n",
    "    \n",
    "    for strike in strike_grid:\n",
    "        swaption = Swaption(swaption_expiry, strike, swap)\n",
    "        swaption_value, black_implied_vola = lognormalimpliedvola(swaption, swap_pricer, lambda_avg,\n",
    "                                                                  beta_avg)\n",
    "\n",
    "        output_data = pd.DataFrame({\"atm strike\": atm_swap_price, \"swaption_value\":[swaption_value],\n",
    "                                    \"kappa\": [kappa], \"strike\": [strike],\n",
    "                                    'moneyness': [strike-atm_swap_price],\n",
    "                                    \"implied_black_vola\": black_implied_vola,\n",
    "                                     \"xy_approximation\": [str(xy_calculator)]})\n",
    "        all_output_data_ls.append(output_data)\n",
    "    all_output_data_df = pd.concat(all_output_data_ls)\n",
    "    return all_output_data_df.sort_values(\"moneyness\")"
   ]
  },
  {
   "cell_type": "code",
   "execution_count": 11,
   "id": "systematic-halifax",
   "metadata": {},
   "outputs": [],
   "source": [
    "# Two types of approximator: \n",
    "\n",
    "# Based on Piterbarg (Chpt 13, vol 2) - Method A\n",
    "implied_vola_df_piterbarg = calculate_implied_vola(PitergargDiscreteXY)\n",
    "\n",
    "# Chibane 2012 - Method B\n",
    "implied_vola_df_rg = calculate_implied_vola(RungeKuttaApproxXY)\n"
   ]
  },
  {
   "cell_type": "code",
   "execution_count": 12,
   "id": "played-singer",
   "metadata": {},
   "outputs": [
    {
     "data": {
      "text/plain": [
       "Text(0.5, 1.0, '20Y1Y swaption approximation comparison')"
      ]
     },
     "execution_count": 12,
     "metadata": {},
     "output_type": "execute_result"
    },
    {
     "data": {
      "image/png": "[encoded data removed]",
      "text/plain": [
       "<Figure size 432x288 with 1 Axes>"
      ]
     },
     "metadata": {
      "needs_background": "light"
     },
     "output_type": "display_data"
    }
   ],
   "source": [
    "plt.plot(implied_vola_df_piterbarg[\"moneyness\"], implied_vola_df_piterbarg[\"implied_black_vola\"], \"b-x\", label=\"Piterbarg (Method A)\")\n",
    "plt.plot(implied_vola_df_rg[\"moneyness\"], implied_vola_df_rg[\"implied_black_vola\"], \"r-x\", label=\"Runge-Kutta (Method B)\")\n",
    "plt.legend()\n",
    "plt.xlabel(\"Stike-ATM\")\n",
    "plt.ylabel(\"Implied Black volatility\")\n",
    "plt.title(\"{}Y{}Y swaption approximation comparison\".format(swaption_expiry, swap_maturity-swaption_expiry))"
   ]
  },
  {
   "cell_type": "code",
   "execution_count": null,
   "id": "designed-vehicle",
   "metadata": {},
   "outputs": [],
   "source": []
  }
 ],
 "metadata": {
  "kernelspec": {
   "display_name": "Python 3",
   "language": "python",
   "name": "python3"
  },
  "language_info": {
   "codemirror_mode": {
    "name": "ipython",
    "version": 3
   },
   "file_extension": ".py",
   "mimetype": "text/x-python",
   "name": "python",
   "nbconvert_exporter": "python",
   "pygments_lexer": "ipython3",
   "version": "3.7.10"
  }
 },
 "nbformat": 4,
 "nbformat_minor": 5
}
