{
 "cells": [
  {
   "cell_type": "markdown",
   "id": "elegant-resort",
   "metadata": {},
   "source": [
    "# Finite Difference bond\n",
    "\n",
    "Bond pricing through finite difference and comparison with analytic expression"
   ]
  },
  {
   "cell_type": "code",
   "execution_count": null,
   "id": "dimensional-duncan",
   "metadata": {},
   "outputs": [],
   "source": [
    "import os\n",
    "import sys"
   ]
  },
  {
   "cell_type": "code",
   "execution_count": 5,
   "id": "infectious-emergency",
   "metadata": {},
   "outputs": [],
   "source": [
    "current_dir = os.getcwd()\n",
    "qg_dir = os.path.join(current_dir, \"..\")\n",
    "\n",
    "sys.path.append(qg_dir)"
   ]
  },
  {
   "cell_type": "code",
   "execution_count": 6,
   "id": "established-incident",
   "metadata": {},
   "outputs": [],
   "source": [
    "import numpy as np\n",
    "from scipy.interpolate import interp1d\n",
    "import numpy as np\n",
    "import matplotlib.pyplot as plt\n",
    "import matplotlib\n",
    "import pandas as pd\n",
    "matplotlib.rcParams['text.usetex'] = True\n",
    "from quassigaussian.finitedifference.mesher.linear_mesher import extract_x0_result\n"
   ]
  },
  {
   "cell_type": "code",
   "execution_count": 42,
   "id": "lonely-chapel",
   "metadata": {},
   "outputs": [],
   "source": [
    "from quassigaussian.finitedifference.adi.run_adi import AdiRunner\n",
    "from quassigaussian.parameters.volatility.local_volatility import LinearLocalVolatility\n",
    "from quassigaussian.products.instruments import Bond\n",
    "from quassigaussian.products.instruments import Swap, Swaption\n",
    "from quassigaussian.products.pricer import SwapPricer, SwaptionPricer, find_implied_black_vola\n",
    "\n",
    "from quassigaussian.products.pricer import BondPricer\n",
    "from quassigaussian.finitedifference.mesher.grid_boundaries import calculate_x_boundaries2, calculate_u_boundaries, calculate_x_boundaries3\n",
    "from quassigaussian.finitedifference.mesher.linear_mesher import Mesher2d\n",
    "import pandas as pd\n",
    "import os\n",
    "from qgtests.utis import get_mock_yield_curve_const"
   ]
  },
  {
   "cell_type": "markdown",
   "id": "criminal-module",
   "metadata": {},
   "source": [
    "### Market Parameters"
   ]
  },
  {
   "cell_type": "code",
   "execution_count": 65,
   "id": "engaging-clark",
   "metadata": {},
   "outputs": [],
   "source": [
    "maturity = 30\n",
    "curve_rate = 0.01\n",
    "maturity= 30\n",
    "kappa = 0.03\n",
    "theta = 1/2\n",
    "initial_curve = get_mock_yield_curve_const(rate=curve_rate)\n",
    "\n",
    "loca_vola = LinearLocalVolatility.from_const(maturity, 0.4, 0.01, 0.1)\n",
    "t_max = maturity\n",
    "t_min = 0"
   ]
  },
  {
   "cell_type": "markdown",
   "id": "ideal-circumstances",
   "metadata": {},
   "source": [
    "#### Setting up Adi Runner and Grid"
   ]
  },
  {
   "cell_type": "code",
   "execution_count": 66,
   "id": "insured-greek",
   "metadata": {},
   "outputs": [],
   "source": [
    "t_grid_size = 100\n",
    "x_grid_size = 150\n",
    "u_grid_size = 20\n",
    "\n",
    "\n",
    "x_min, x_max = calculate_x_boundaries3(t_max, kappa, loca_vola, alpha=3)\n",
    "u_min, u_max = calculate_u_boundaries(t_max, kappa, loca_vola, alpha=4)\n",
    "\n",
    "mesher = Mesher2d()\n",
    "mesher.create_mesher_2d(t_min, t_max, t_grid_size, x_min, x_max, x_grid_size, u_min, u_max,\n",
    "                        u_grid_size)\n"
   ]
  },
  {
   "cell_type": "code",
   "execution_count": 67,
   "id": "excited-triangle",
   "metadata": {},
   "outputs": [],
   "source": [
    "adi_runner = AdiRunner(theta, kappa, initial_curve, loca_vola, mesher)\n"
   ]
  },
  {
   "cell_type": "markdown",
   "id": "fifty-mineral",
   "metadata": {},
   "source": [
    "## Pricing Bond with ADI"
   ]
  },
  {
   "cell_type": "code",
   "execution_count": 68,
   "id": "entitled-stability",
   "metadata": {},
   "outputs": [],
   "source": [
    "bond = Bond(maturity)\n",
    "bond_pricer = BondPricer(initial_curve, kappa)\n"
   ]
  },
  {
   "cell_type": "code",
   "execution_count": 69,
   "id": "according-imagination",
   "metadata": {},
   "outputs": [
    {
     "name": "stdout",
     "output_type": "stream",
     "text": [
      "29.6969696969697\n",
      "29.393939393939394\n",
      "29.090909090909093\n",
      "28.78787878787879\n",
      "28.484848484848484\n",
      "28.181818181818183\n",
      "27.87878787878788\n",
      "27.575757575757578\n",
      "27.272727272727273\n",
      "26.96969696969697\n",
      "26.666666666666668\n",
      "26.363636363636363\n",
      "26.060606060606062\n",
      "25.757575757575758\n",
      "25.454545454545457\n",
      "25.151515151515152\n",
      "24.848484848484848\n",
      "24.545454545454547\n",
      "24.242424242424242\n",
      "23.93939393939394\n",
      "23.636363636363637\n",
      "23.333333333333336\n",
      "23.03030303030303\n",
      "22.727272727272727\n",
      "22.424242424242426\n",
      "22.12121212121212\n",
      "21.81818181818182\n",
      "21.515151515151516\n",
      "21.21212121212121\n",
      "20.90909090909091\n",
      "20.606060606060606\n",
      "20.303030303030305\n",
      "20.0\n",
      "19.6969696969697\n",
      "19.393939393939394\n",
      "19.09090909090909\n",
      "18.78787878787879\n",
      "18.484848484848484\n",
      "18.181818181818183\n",
      "17.87878787878788\n",
      "17.575757575757578\n",
      "17.272727272727273\n",
      "16.96969696969697\n",
      "16.666666666666668\n",
      "16.363636363636363\n",
      "16.060606060606062\n",
      "15.757575757575758\n",
      "15.454545454545455\n",
      "15.151515151515152\n",
      "14.84848484848485\n",
      "14.545454545454547\n",
      "14.242424242424242\n",
      "13.93939393939394\n",
      "13.636363636363637\n",
      "13.333333333333334\n",
      "13.030303030303031\n",
      "12.727272727272728\n",
      "12.424242424242424\n",
      "12.121212121212121\n",
      "11.818181818181818\n",
      "11.515151515151516\n",
      "11.212121212121213\n",
      "10.90909090909091\n",
      "10.606060606060606\n",
      "10.303030303030303\n",
      "10.0\n",
      "9.696969696969697\n",
      "9.393939393939394\n",
      "9.090909090909092\n",
      "8.787878787878789\n",
      "8.484848484848484\n",
      "8.181818181818182\n",
      "7.878787878787879\n",
      "7.575757575757576\n",
      "7.272727272727273\n",
      "6.96969696969697\n",
      "6.666666666666667\n",
      "6.363636363636364\n",
      "6.0606060606060606\n",
      "5.757575757575758\n",
      "5.454545454545455\n",
      "5.151515151515151\n",
      "4.848484848484849\n",
      "4.545454545454546\n",
      "4.242424242424242\n",
      "3.9393939393939394\n",
      "3.6363636363636367\n",
      "3.3333333333333335\n",
      "3.0303030303030303\n",
      "2.7272727272727275\n",
      "2.4242424242424243\n",
      "2.121212121212121\n",
      "1.8181818181818183\n",
      "1.5151515151515151\n",
      "1.2121212121212122\n",
      "0.9090909090909092\n",
      "0.6060606060606061\n",
      "0.30303030303030304\n",
      "0.0\n"
     ]
    }
   ],
   "source": [
    "fd_bond = pd.DataFrame(adi_runner.run_adi(bond, bond_pricer))\n"
   ]
  },
  {
   "cell_type": "markdown",
   "id": "induced-delhi",
   "metadata": {},
   "source": [
    "#### Compare Bond Value with accurate pricer"
   ]
  },
  {
   "cell_type": "code",
   "execution_count": 70,
   "id": "running-clinton",
   "metadata": {},
   "outputs": [],
   "source": [
    "y_bar = 0 #y_bar=0 at t=0\n",
    "bond_pricer = BondPricer(initial_curve, kappa)\n",
    "bond_value_analytics = bond_pricer.price(bond, mesher.xmesh, mesher.umesh + y_bar, 0)\n"
   ]
  },
  {
   "cell_type": "code",
   "execution_count": 71,
   "id": "existing-badge",
   "metadata": {},
   "outputs": [
    {
     "data": {
      "text/plain": [
       "array([[1.67450238, 1.67431906, 1.67413575, ..., 1.67157159, 1.67138859,\n",
       "        1.6712056 ],\n",
       "       [1.65485144, 1.65467027, 1.65448912, ..., 1.65195505, 1.65177419,\n",
       "        1.65159336],\n",
       "       [1.63543112, 1.63525207, 1.63507304, ..., 1.63256871, 1.63238998,\n",
       "        1.63221127],\n",
       "       ...,\n",
       "       [0.29182727, 0.29179532, 0.29176337, ..., 0.2913165 , 0.2912846 ,\n",
       "        0.29125271],\n",
       "       [0.28840256, 0.28837099, 0.28833941, ..., 0.28789778, 0.28786627,\n",
       "        0.28783475],\n",
       "       [0.28501804, 0.28498684, 0.28495564, ..., 0.28451919, 0.28448804,\n",
       "        0.2844569 ]])"
      ]
     },
     "execution_count": 71,
     "metadata": {},
     "output_type": "execute_result"
    }
   ],
   "source": [
    "bond_value_analytics"
   ]
  },
  {
   "cell_type": "code",
   "execution_count": 72,
   "id": "eligible-stanley",
   "metadata": {},
   "outputs": [],
   "source": [
    "xgrid = mesher.xgrid\n",
    "ugrid = mesher.ugrid\n",
    "x0_pos = np.where(xgrid == 0)[0][0]\n",
    "u0_pos = np.where(ugrid == 0)[0][0]\n",
    "\n",
    "xgrid_plot = (xgrid[0]>=-0.025) & (xgrid[0]<=0.025)\n"
   ]
  },
  {
   "cell_type": "code",
   "execution_count": 73,
   "id": "urban-woman",
   "metadata": {},
   "outputs": [],
   "source": [
    "def plot_bond_price_for_different(grid, output_fd, bond_value, grid_dir=\"x\"):\n",
    "\n",
    "    fig, ax1 = plt.subplots()\n",
    "    ax1.plot(grid, bond_value, \"b--\", label=\"Exact formula\")\n",
    "    ax1.plot(grid, output_fd, \"rx\", label=\"Finite difference\", markersize=2.5)\n",
    "\n",
    "    error = (output_fd-bond_value)/bond_value * 10000\n",
    "    ax1.set_xlabel(grid_dir + \" value\")\n",
    "\n",
    "    ax2 = ax1.twinx()\n",
    "    ax2.plot(grid, error, \"kd\", label=\"Error\", markersize=3)\n",
    "\n",
    "    ax2.set_ylabel(\"Error in bond value (bps)\")\n",
    "\n",
    "    if (grid_dir==\"x\"):\n",
    "        lgnd = ax1.legend(loc=\"upper center\")\n",
    "    else:\n",
    "        lgnd = ax1.legend(loc=\"lower center\")\n",
    "\n",
    "    lgnd.legendHandles[0]._legmarker.set_markersize(6)\n",
    "    lgnd.legendHandles[1]._legmarker.set_markersize(6)\n",
    "\n",
    "\n",
    "    ax2.legend(loc=\"upper right\")\n",
    "    #ax1.set_title(title)\n",
    "    return fig"
   ]
  },
  {
   "cell_type": "code",
   "execution_count": 74,
   "id": "hourly-drill",
   "metadata": {},
   "outputs": [],
   "source": [
    "xgrid_plot = (xgrid>=-0.025) & (xgrid<=0.025)\n"
   ]
  },
  {
   "cell_type": "code",
   "execution_count": 75,
   "id": "broad-patio",
   "metadata": {},
   "outputs": [
    {
     "data": {
      "text/plain": [
       "Text(0, 0.5, 'Bond Value')"
      ]
     },
     "execution_count": 75,
     "metadata": {},
     "output_type": "execute_result"
    },
    {
     "data": {
      "image/png": "[encoded data removed]",
      "text/plain": [
       "<Figure size 432x288 with 2 Axes>"
      ]
     },
     "metadata": {
      "needs_background": "light"
     },
     "output_type": "display_data"
    }
   ],
   "source": [
    "fig = plot_bond_price_for_different(xgrid[xgrid_plot], fd_bond.loc[xgrid_plot, u0_pos], bond_value_analytics[xgrid_plot, u0_pos], \"x\")\n",
    "ax = fig.axes[0]\n",
    "ax.set_title(\"30 Y Bond Value, (t,x,u), (100/150/20)\")\n",
    "ax.set_ylabel(\"Bond Value\")"
   ]
  }
 ],
 "metadata": {
  "kernelspec": {
   "display_name": "Python 3",
   "language": "python",
   "name": "python3"
  },
  "language_info": {
   "codemirror_mode": {
    "name": "ipython",
    "version": 3
   },
   "file_extension": ".py",
   "mimetype": "text/x-python",
   "name": "python",
   "nbconvert_exporter": "python",
   "pygments_lexer": "ipython3",
   "version": "3.7.10"
  }
 },
 "nbformat": 4,
 "nbformat_minor": 5
}
